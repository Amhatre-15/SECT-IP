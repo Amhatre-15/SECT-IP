{
 "cells": [
  {
   "cell_type": "code",
   "execution_count": 12,
   "id": "333e90ef-8302-4dd2-a100-fd6df9b185bf",
   "metadata": {},
   "outputs": [
    {
     "name": "stdin",
     "output_type": "stream",
     "text": [
      "Enter a topic:  Jio 5G\n"
     ]
    },
    {
     "name": "stdout",
     "output_type": "stream",
     "text": [
      "Status Code: 200\n",
      "\n",
      "✅ Tweets Fetched:\n",
      "\n",
      "                       Date              User ID  \\\n",
      "0  2025-07-13T15:09:01.000Z  1920863382472687617   \n",
      "1  2025-07-13T14:56:00.000Z  1376511159990296578   \n",
      "2  2025-07-13T14:50:13.000Z  1873059916753383424   \n",
      "3  2025-07-13T14:36:29.000Z  1576981017050910720   \n",
      "4  2025-07-13T14:33:12.000Z  1656611378919030784   \n",
      "\n",
      "                                               Tweet  \n",
      "0  @JioCare @abhishek09786 @abhishek09786 Don't f...  \n",
      "1  @JioCare @reliancejio Internet speed has been ...  \n",
      "2  #Infintea Comic🤡\\n#Jio’s IPO adventure hits “p...  \n",
      "3    I am not getting the Jio 5G network in my area😭  \n",
      "4  #jio_का_घटिया_नेटवर्क \\nSituation of jio 5g \\n...  \n"
     ]
    }
   ],
   "source": [
    "import requests\n",
    "import pandas as pd\n",
    "\n",
    "# ✅ Bearer Token (Fresh, Clean)\n",
    "bearer_token = \"AAAAAAAAAAAAAAAAAAAAAH0u3AEAAAAAOyG0NVJ%2Fmi%2B71agweUST2yiP9m0%3DMVPgm9wpllegpjFEFrAmZyss3LW0PKAVeiG9TniK4eM6kwNqyf\"\n",
    "\n",
    "# 🔧 Headers for API authorization\n",
    "headers = {\n",
    "    \"Authorization\": f\"Bearer {bearer_token}\"\n",
    "}\n",
    "\n",
    "# 🔎 Get topic input from user\n",
    "query = input(\"Enter a topic: \")\n",
    "\n",
    "# 🌐 Twitter API endpoint\n",
    "search_url = \"https://api.twitter.com/2/tweets/search/recent\"\n",
    "\n",
    "# ⚙️ Parameters\n",
    "params = {\n",
    "    \"query\": f\"{query} lang:en -is:retweet\",  # Clean tweets only\n",
    "    \"max_results\": 10,\n",
    "    \"tweet.fields\": \"created_at,text,author_id\"\n",
    "}\n",
    "\n",
    "# 📡 Make the request\n",
    "response = requests.get(search_url, headers=headers, params=params)\n",
    "\n",
    "# 🧪 Debug\n",
    "print(\"Status Code:\", response.status_code)\n",
    "\n",
    "# 🧾 Parse response\n",
    "tweets = response.json()\n",
    "data = []\n",
    "\n",
    "if \"data\" in tweets:\n",
    "    for tweet in tweets[\"data\"]:\n",
    "        data.append({\n",
    "            \"Date\": tweet[\"created_at\"],\n",
    "            \"User ID\": tweet[\"author_id\"],\n",
    "            \"Tweet\": tweet[\"text\"]\n",
    "        })\n",
    "    df = pd.DataFrame(data)\n",
    "    print(\"\\n✅ Tweets Fetched:\\n\")\n",
    "    print(df.head())\n",
    "else:\n",
    "    print(\"❌ No tweets found or error occurred.\")\n",
    "    print(tweets)\n"
   ]
  }
 ],
 "metadata": {
  "kernelspec": {
   "display_name": "Python 3 (ipykernel)",
   "language": "python",
   "name": "python3"
  },
  "language_info": {
   "codemirror_mode": {
    "name": "ipython",
    "version": 3
   },
   "file_extension": ".py",
   "mimetype": "text/x-python",
   "name": "python",
   "nbconvert_exporter": "python",
   "pygments_lexer": "ipython3",
   "version": "3.12.7"
  }
 },
 "nbformat": 4,
 "nbformat_minor": 5
}
